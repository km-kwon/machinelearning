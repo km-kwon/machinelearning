{
  "nbformat": 4,
  "nbformat_minor": 0,
  "metadata": {
    "colab": {
      "provenance": [],
      "collapsed_sections": [],
      "toc_visible": true,
      "include_colab_link": true
    },
    "kernelspec": {
      "name": "python3",
      "display_name": "Python 3"
    },
    "language_info": {
      "name": "python"
    }
  },
  "cells": [
    {
      "cell_type": "markdown",
      "metadata": {
        "id": "view-in-github",
        "colab_type": "text"
      },
      "source": [
        "<a href=\"https://colab.research.google.com/github/km-kwon/machinelearning/blob/main/HW1.ipynb\" target=\"_parent\"><img src=\"https://colab.research.google.com/assets/colab-badge.svg\" alt=\"Open In Colab\"/></a>"
      ]
    },
    {
      "cell_type": "markdown",
      "source": [
        "# HW1 :: Data preprocessing & KNN"
      ],
      "metadata": {
        "id": "HiuqPKmhFjJZ"
      }
    },
    {
      "cell_type": "markdown",
      "source": [
        "## 코랩과 구글 드라이브 연동하기"
      ],
      "metadata": {
        "id": "E_j4s928KEBc"
      }
    },
    {
      "cell_type": "code",
      "source": [
        "from google.colab import drive\n",
        "drive.mount('/content/drive')"
      ],
      "metadata": {
        "id": "uxp3h-u3KDjh"
      },
      "execution_count": null,
      "outputs": []
    },
    {
      "cell_type": "code",
      "source": [
        "# pwd 명령어로 현재 위치 확인\n",
        "!pwd"
      ],
      "metadata": {
        "id": "qARwVCK0KbnX"
      },
      "execution_count": null,
      "outputs": []
    },
    {
      "cell_type": "code",
      "source": [
        "!ls"
      ],
      "metadata": {
        "id": "JF-0b-trLWIa"
      },
      "execution_count": null,
      "outputs": []
    },
    {
      "cell_type": "code",
      "source": [
        "# 이 노트북 파일이 저장되어 있는 디렉토리 위치까지 옮기기\n",
        "cd drive"
      ],
      "metadata": {
        "id": "K8ugjVg0LYX-"
      },
      "execution_count": null,
      "outputs": []
    },
    {
      "cell_type": "markdown",
      "source": [
        "---"
      ],
      "metadata": {
        "id": "FvbVzxsIRwRP"
      }
    },
    {
      "cell_type": "markdown",
      "source": [
        "## 데이터 불러오기 & 살펴보기"
      ],
      "metadata": {
        "id": "SHHh-sdrI47e"
      }
    },
    {
      "cell_type": "code",
      "source": [
        "# 이번 과제는 numpy, pandas와 같은 데이터를 불러내고 확인, 처리, \n",
        "# 수정 등을 쉽게 할 수 있는 library를 사용합니다.\n",
        "\n",
        "# 모듈 이름 뒤에 as를 쓰고 별칭을 적으면 해당 별칭으로 모듈을 호출할 수 있습니다.\n",
        "# 모듈명: numpy, 별칭: np => numpy를 쓰는 대신 np를 써서 numpy 호출\n",
        "# 모듈명: pandas, 별칭: pd => pandas를 쓰는 대신 pd를 써서 pandas 호출\n",
        "import numpy as np\n",
        "import pandas as pd"
      ],
      "metadata": {
        "id": "BMP_af_vIsjs"
      },
      "execution_count": null,
      "outputs": []
    },
    {
      "cell_type": "code",
      "execution_count": null,
      "metadata": {
        "id": "ohwnlYNQB6kK"
      },
      "outputs": [],
      "source": [
        "# './'는 이 노트북 파일의 현재 위치를 뜻 합니다.\n",
        "# 노트북 파일과 같은 위치에 데이터 파일을 두어야 아래와 같이 데이터 파일을 불러올 수 있습니다.\n",
        "# kaggle 원본 데이터 파일과 다릅니다. 반드시 제공된 데이터를 사용하세요!\n",
        "path = './airline_sampled.csv' \n",
        "\n",
        "# pandas의 read_csv 함수를 사용하여 csv파일을 DataFrame으로 불러옵니다.\n",
        "data = pd.read_csv(path)"
      ]
    },
    {
      "cell_type": "code",
      "source": [
        "# DataFrame 혹은 Series와 같은 자료구조에 shape함수를 통해 데이터의 크기와 \n",
        "# 변수의 갯수를 대략적으로 알 수 있습니다.\n",
        "\n",
        "data.shape # (10000, 23) => 10000 개의 row(행), 23 개의 column(열)을 가진 데이터"
      ],
      "metadata": {
        "id": "i1oNmJPRLpHk"
      },
      "execution_count": null,
      "outputs": []
    },
    {
      "cell_type": "code",
      "source": [
        "# head() 함수를 이용하여 해당 데이터의 맨 위 5개의 원소를 볼 수 있습니다.\n",
        "# 더 많은 행을 보고 싶다면 ()안에 숫자를 넣어주시면 됩니다.\n",
        "\n",
        "data.head()"
      ],
      "metadata": {
        "id": "3VW__vN3L9KH"
      },
      "execution_count": null,
      "outputs": []
    },
    {
      "cell_type": "code",
      "source": [
        "# tail() 함수를 이용하여 해당 데이터의 맨 뒤 5개의 원소를 볼 수 있습니다.\n",
        "# 더 많은 행을 보고 싶다면 ()안에 숫자를 넣어주시면 됩니다.\n",
        "\n",
        "data.tail()"
      ],
      "metadata": {
        "id": "SuSLXcgKNUGB"
      },
      "execution_count": null,
      "outputs": []
    },
    {
      "cell_type": "code",
      "source": [
        "# DataFrame을 이루고 있는 column의 이름을 확인합니다.\n",
        "\n",
        "data.columns"
      ],
      "metadata": {
        "id": "Dp-qGCHYfbvc"
      },
      "execution_count": null,
      "outputs": []
    },
    {
      "cell_type": "code",
      "source": [
        "# DataFrame을 이루고 있는 column 별 데이터의 타입을 확인합니다.\n",
        "\n",
        "data.dtypes"
      ],
      "metadata": {
        "id": "Uo0rA2-Af2Ox"
      },
      "execution_count": null,
      "outputs": []
    },
    {
      "cell_type": "code",
      "source": [
        "# describe()는 각 column에 대해 통계량을 요약해주는 함수입니다.\n",
        "# 기본적으로 NaN(누락데이터)는 제외하고 데이터 요약이 수행됩니다.\n",
        "\n",
        "data.describe()"
      ],
      "metadata": {
        "id": "tqr0vPEUgIXe"
      },
      "execution_count": null,
      "outputs": []
    },
    {
      "cell_type": "markdown",
      "source": [
        "## 문제 1 :: 변수의 타입"
      ],
      "metadata": {
        "id": "OxWUc9_uNhwr"
      }
    },
    {
      "cell_type": "markdown",
      "source": [
        "* 보고서에 설명된 것을 바탕을 주어진 데이터의 변수들의 타입을 보고서에 기술하세요.\n",
        "\n",
        "  * 작성 형식) : 1. 변수 이름: categorical\n",
        "  * 작성 예시) 1. Age: Numeric"
      ],
      "metadata": {
        "id": "zAUopgpbNwqH"
      }
    },
    {
      "cell_type": "markdown",
      "source": [
        "정답)\n",
        "* Gender:\n",
        "* Customer type:\n",
        "* Age:\n",
        "* Type of travel:\n",
        "* Class:\n",
        "* Flight Distance:\n",
        "* Inflight wifi service:\n",
        "* Departure/Arrival time convenient:\n",
        "* Ease of Online booking:\n",
        "* Gate location:\n",
        "* Food and drink:\n",
        "* Online boarding:\n",
        "* Seat comfort:\n",
        "* Inflight entertainment:\n",
        "* On-board service:\n",
        "* Leg room service:\n",
        "* Baggage handling:\n",
        "* Checkin service:\n",
        "* Inflight service:\n",
        "* Cleanliness:\n",
        "* Departure Delay in Minutes:\n",
        "* Arrival Delay in Minutes:\n",
        "* satisfaction:\n"
      ],
      "metadata": {
        "id": "snk7Cj9nCILY"
      }
    },
    {
      "cell_type": "markdown",
      "source": [
        "## 결측값과 중복값 확인하기\n",
        "결측값과 중복값은 데이터 분석 결과에 큰 영향을 줍니다.   \n",
        "제공된 데이터에 결측값과 중복값이 있는지 알아봅시다."
      ],
      "metadata": {
        "id": "vcSCug4uKTvJ"
      }
    },
    {
      "cell_type": "code",
      "source": [
        "# isnull()는 DataFrame에 있는 결측치(NA)를 boolean 값으로 반환하는 함수입니다.\n",
        "# 결측치가 있으면 True를 반환합니다.\n",
        "\n",
        "data.isnull().head()"
      ],
      "metadata": {
        "id": "vAxj5i4SXmaq"
      },
      "execution_count": null,
      "outputs": []
    },
    {
      "cell_type": "code",
      "source": [
        "# isnull()에 sum() 를 결합하여 DataFrame에 있는 결측치의 합을 구합니다.\n",
        "\n",
        "data.isnull().sum() # 문제3에서 KNN Imputer를 사용하여 결측값을 보정할 예정"
      ],
      "metadata": {
        "id": "GkFjz5EMWOvu"
      },
      "execution_count": null,
      "outputs": []
    },
    {
      "cell_type": "code",
      "source": [
        "# duplicated()는 중복된 데이터를 Series 형식으로 반환합니다.\n",
        "\n",
        "data.duplicated()"
      ],
      "metadata": {
        "id": "bX4Z2P1BXu75"
      },
      "execution_count": null,
      "outputs": []
    },
    {
      "cell_type": "code",
      "source": [
        "# duplicated()에 sum()을 결합하여 DataFrame에 있는 중복 데이터의 합을 구합니다.\n",
        "\n",
        "data.duplicated().sum()"
      ],
      "metadata": {
        "id": "UMkdBrhRWXvd"
      },
      "execution_count": null,
      "outputs": []
    },
    {
      "cell_type": "markdown",
      "source": [
        "## 문제 2 :: 데이터 정리\n"
      ],
      "metadata": {
        "id": "TWo9MG0-FG96"
      }
    },
    {
      "cell_type": "markdown",
      "source": [
        "### 문제 2-1\n",
        "제공된 데이터에서 categorical 변수들을 주어진 조건에 따라 인코딩하고 작성한 코드를 캡처 후 보고서에 업로드 하세요.\n",
        "\n",
        "* data에서 satisfaction 열의 데이터 값을 `neutral or dissatisfied` 일 경우 0, `satisfied`일 경우 1로 인코딩하세요.\n",
        "\n",
        "* data에서 Gender 열의 데이터 값을 `Male`일 경우 0, `Female`일 경우 1로 인코딩하세요.\n",
        "\n",
        "* data에서 Customer Type 열의 데이터 값을 `disloyal Customer`일 경우 0, `Loyal Customer`일 경우 1로 인코딩하세요.\n",
        "\n",
        "* data에서 Class 열의 데이터 값을 `Eco`일 경우 0, `Eco Plus`일 경우 1, `Business`일 경우 2로 인코딩하세요.\n",
        "\n",
        "* data에서 'Type of Travel 열의 데이터 값을 `Personal Travel`일 경우 0, `Business travel`일 경우 1로 인코딩하세요."
      ],
      "metadata": {
        "id": "iqCp7B2RGUbb"
      }
    },
    {
      "cell_type": "code",
      "source": [
        "data['Type of Travel'].unique()"
      ],
      "metadata": {
        "id": "dLDDSfWzpFBZ"
      },
      "execution_count": null,
      "outputs": []
    },
    {
      "cell_type": "code",
      "source": [
        "data['Customer Type'].unique()"
      ],
      "metadata": {
        "id": "Iddy4jHOea-U"
      },
      "execution_count": null,
      "outputs": []
    },
    {
      "cell_type": "code",
      "source": [
        "data['satisfaction'].unique() # satisfaction 열은 두 가지의 클래스로 구성되어 있다는 것을 확인합니다."
      ],
      "metadata": {
        "id": "00y7c1BUFGTi"
      },
      "execution_count": null,
      "outputs": []
    },
    {
      "cell_type": "code",
      "source": [
        "data['Class'].unique()"
      ],
      "metadata": {
        "id": "m-fUGg7Keo-a"
      },
      "execution_count": null,
      "outputs": []
    },
    {
      "cell_type": "code",
      "source": [
        "################  문제 2-1  ####################\n",
        "# 소스코드를 입력하고 캡처 후 보고서에 업로드하세요.\n",
        "# 코드 시작과 코드 끝 라인을 삭제하지 마세요.\n",
        "################ 코드 시작  #####################\n",
        "\n",
        "\n",
        "##################################################"
      ],
      "metadata": {
        "id": "-tYLfF6TFap6"
      },
      "execution_count": null,
      "outputs": []
    },
    {
      "cell_type": "code",
      "source": [
        "# 인코딩한 데이터 열의 데이터 속성을 변환하는 코드\n",
        "data['satisfaction'] = data['satisfaction'].astype('int')\n",
        "data['Gender'] = data['Gender'].astype('int')\n",
        "data['Customer Type'] = data['Customer Type'].astype('int')\n",
        "data['Class'] = data['Class'].astype('int')\n",
        "data['Type of Travel'] = data['Type of Travel'].astype('int')"
      ],
      "metadata": {
        "id": "ezU7tqGUo7SY"
      },
      "execution_count": null,
      "outputs": []
    },
    {
      "cell_type": "markdown",
      "source": [
        "### 문제 2-2\n",
        "`Arrival Delay in Minutes` 열은 현재 분 단위로 데이터가 구성되어 있습니다.  \n",
        "시간 단위로 데이터를 나타내는 `delay_in_hours`을 작성하고 캡처하여 보고서에 업로드 하세요.\n",
        "\n",
        "\n",
        "예) 18분 => 18/60=0.3"
      ],
      "metadata": {
        "id": "cL5wFdL2PzoG"
      }
    },
    {
      "cell_type": "code",
      "source": [
        "################  문제 2-2  ####################\n",
        "# 소스코드를 입력하고 캡처 후 보고서에 업로드하세요.\n",
        "# 코드 시작과 코드 끝 라인을 삭제하지 마세요.\n",
        "################ 코드 시작  #####################\n",
        "\n",
        "################ 코드 끝 ########################\n",
        "#################################################"
      ],
      "metadata": {
        "id": "oaepiP-ZQFiM"
      },
      "execution_count": null,
      "outputs": []
    },
    {
      "cell_type": "code",
      "source": [
        "data['Arrival Delay in Minutes'] = data['Arrival Delay in Minutes'].apply(lambda row: delay_in_hours(row))"
      ],
      "metadata": {
        "id": "PCbcRZ09QvSj"
      },
      "execution_count": null,
      "outputs": []
    },
    {
      "cell_type": "code",
      "source": [
        "data # Arrival Delay in Minutes 열이 바뀌었는지 확인"
      ],
      "metadata": {
        "id": "fyT2vdVoRJDe"
      },
      "execution_count": null,
      "outputs": []
    },
    {
      "cell_type": "code",
      "source": [
        "data['Departure Delay in Minutes'] = data['Departure Delay in Minutes'].apply(lambda row: delay_in_hours(row))"
      ],
      "metadata": {
        "id": "pbQPKtv91RxY"
      },
      "execution_count": null,
      "outputs": []
    },
    {
      "cell_type": "markdown",
      "source": [
        "### 문제 2-3\n",
        "`Departure Delay in Minutes`와 `Arrival Delay in Minutes` 열의 이름을 각각 `Departure Delay in Hours`와 `Arrival Delay in Hours`로 변경하세요.\n",
        "\n",
        "**코드를 보고서에 캡처하여 업로드하세요.**"
      ],
      "metadata": {
        "id": "NBlhVAnc4b2g"
      }
    },
    {
      "cell_type": "code",
      "source": [
        "################  문제 2-3  #################\n",
        "# 열 이름 변경하기\n",
        "# 소스코드를 입력하고 캡처 후 보고서에 업로드하세요.\n",
        "# 코드 시작과 코드 끝 라인을 삭제하지 마세요.\n",
        "################ 코드 시작  ##################\n",
        "\n",
        "\n",
        "################ 코드 끝  ####################\n",
        "##############################################"
      ],
      "metadata": {
        "id": "ERyzc4KD2f91"
      },
      "execution_count": null,
      "outputs": []
    },
    {
      "cell_type": "markdown",
      "source": [
        "## 문제 3 :: KNN Imputer"
      ],
      "metadata": {
        "id": "cwfB3vI92gm5"
      }
    },
    {
      "cell_type": "markdown",
      "source": [
        "### **`Arrival Delay in Hours`** 열과 연관성이 높은 열 찾기\n"
      ],
      "metadata": {
        "id": "qz1YtBjTrC8i"
      }
    },
    {
      "cell_type": "markdown",
      "source": [
        "결측값이 있는 모든 행과 결측값이 없는 데이터 사이의 거리를 구할 수 있지만, 계산 시간이 매우 오려 걸려 `Arrival Delay in Hours` 열과 가장 연관성이 높은 `Departure Delay in Hours` 과의 거리를 기준으로 결측값을 보정합니다."
      ],
      "metadata": {
        "id": "y0r6LRZvJ_69"
      }
    },
    {
      "cell_type": "code",
      "source": [
        "corr = data.corr()\n",
        "corr.style.background_gradient(cmap='coolwarm')"
      ],
      "metadata": {
        "id": "w6Fc04jdtIGV"
      },
      "execution_count": null,
      "outputs": []
    },
    {
      "cell_type": "markdown",
      "source": [
        "`Departure Delay in Hours` 와 `Arrival Delay in Hours`의 상관 계수가 0.96인 것으로 보아 두 열이 큰 상관 관계를 가짐을 알 수 있습니다.   따라서 두 열만 골라 X라는 데이터프레임을 만듭니다."
      ],
      "metadata": {
        "id": "0re9u92U_T_N"
      }
    },
    {
      "cell_type": "code",
      "source": [
        "X = data[['Departure Delay in Hours', 'Arrival Delay in Hours']]"
      ],
      "metadata": {
        "id": "mN32FyQwcUE-"
      },
      "execution_count": null,
      "outputs": []
    },
    {
      "cell_type": "markdown",
      "source": [
        "### 문제 3-1, 3-2\n",
        "K-Nearest Neighbor Imputation(강의노트 24쪽)을 이용하여 결측치 채우기"
      ],
      "metadata": {
        "id": "Zx-soS0wX966"
      }
    },
    {
      "cell_type": "markdown",
      "source": [
        "### 문제 3-1\n",
        "주어진 코드틀에 데이터프레임 X와 결측값이 있는 행 데이터 간의 거리 구하는 코드를 작성하세요.  \n",
        "* 주의) 코드틀 이외의 부분에 코드를 작성하지 마세요!\n",
        "* 주의) 소스코드를 입력하고 캡처 후 보고서에 업로드하세요.\n",
        "* 주의) 코드 시작과 코드 끝 라인을 삭제하지 마세요.\n",
        "\n"
      ],
      "metadata": {
        "id": "qAzcdrZB29wL"
      }
    },
    {
      "cell_type": "markdown",
      "source": [
        "### 문제 3-2\n",
        "주어진 코드틀에 k개의 \"Arrival Delay in Hours\" 값을 보고 평균을 내어 결측값을 결정하는 코드를 작성하세요.\n",
        "* 주의) 코드틀 이외의 부분에 코드를 작성하지 마세요!\n",
        "* 주의) 소스코드를 입력하고 캡처 후 보고서에 업로드하세요.\n",
        "* 주의) 코드 시작과 코드 끝 라인을 삭제하지 마세요."
      ],
      "metadata": {
        "id": "lhZBA2RP3bma"
      }
    },
    {
      "cell_type": "code",
      "source": [
        "import tqdm"
      ],
      "metadata": {
        "id": "HERopBDHv24c"
      },
      "execution_count": null,
      "outputs": []
    },
    {
      "cell_type": "code",
      "source": [
        "class Knn_imputer():\n",
        "  def __init__(self, n_neighbors): \n",
        "        \n",
        "    ## 생성자로 최근접 이웃수(n_neighbors)를 입력 받습니다.\n",
        "    self.k = n_neighbors    \n",
        "  \n",
        "  ## knn 은 lazy learning 입니다.\n",
        "  def fit(self,X):\n",
        "      self.X = X\n",
        "  \n",
        "  def predict(self, X):\n",
        "\n",
        "    for i in tqdm.tqdm(range(len(X))):\n",
        "     if pd.isnull(X['Arrival Delay in Hours'].iloc[i]): # Arrival Delay 열에 있는 결측값 확인\n",
        "\n",
        "        distance = self.dist(X, X.iloc[i]) # 데이터프레임 X와 결측값이 있는 행 데이터 간의 거리 구하는 함수\n",
        "      \n",
        "        \n",
        "        sorted_dist = sorted(distance.items(), key=lambda x: x[1]) # distance 를 sorting 하기\n",
        "\n",
        "         ################  문제 3-2  ####################\n",
        "         # k개의 \"Arrival Delay in Hours\" 값을 보고 평균 내어\n",
        "         # 값을 결정하기\n",
        "         \n",
        "         # 소스코드를 입력하고 캡처 후 보고서에 업로드하세요.\n",
        "         # 코드 시작과 코드 끝 라인을 삭제하지 마세요.\n",
        "        ################ 코드 시작  #####################\n",
        "\n",
        "\n",
        "        \n",
        "        ################ 코드 끝  ######################\n",
        "        ##############################################\n",
        "        \n",
        "  \n",
        "  def dist(self, X, y):\n",
        "    num_train = X.shape[0]\n",
        "\n",
        "    X = X.drop(['Arrival Delay in Hours'], axis=1)\n",
        "    y = y.drop(['Arrival Delay in Hours'])\n",
        "    dist_dict = {} ## {index : distance} 형태\n",
        "\n",
        "    for i in range(num_train):\n",
        "    \n",
        "    ################  문제 3-1  ####################\n",
        "    # 데이터프레임 X와 결측값이 있는 행 데이터 간의 거리 구하기\n",
        "    # 소스코드를 입력하고 캡처 후 보고서에 업로드하세요.\n",
        "    # 코드 시작과 코드 끝 라인을 삭제하지 마세요.\n",
        "    ################ 코드 시작  #####################\n",
        "\n",
        "     \n",
        "    ################ 코드 끝  ######################\n",
        "    ##############################################\n",
        "\n",
        "    return dist_dict\n"
      ],
      "metadata": {
        "id": "jOnalJiib0Pi"
      },
      "execution_count": null,
      "outputs": []
    },
    {
      "cell_type": "code",
      "source": [
        "imputer = Knn_imputer(3)\n",
        "imputer.fit(X)\n",
        "\n",
        "# test set에 대해 predict를 진행합니다.\n",
        "imputer.predict(X) # 오래 걸립니다"
      ],
      "metadata": {
        "id": "iB4-y16HjMhz"
      },
      "execution_count": null,
      "outputs": []
    },
    {
      "cell_type": "code",
      "source": [
        "X.isnull().sum() # 결측값이 채워졌는지 확인"
      ],
      "metadata": {
        "id": "XAbpLgWuAm67"
      },
      "execution_count": null,
      "outputs": []
    },
    {
      "cell_type": "markdown",
      "source": [
        "## 문제 4\n",
        "* satisfaction 열과의 상관 계수가 0.4 이상인 열만 추출하여 dataframe 생성 `data_final`을 생성하고 보고서에 어떤 열을 선택했는지 열의 이름을 서술하세요.\n",
        "\n",
        "* 선택한 열:"
      ],
      "metadata": {
        "id": "VYHiUEq1i3Xr"
      }
    },
    {
      "cell_type": "code",
      "source": [
        "corr = data.corr()\n",
        "corr.style.background_gradient(cmap='coolwarm')"
      ],
      "metadata": {
        "id": "az1ABZJBxauj"
      },
      "execution_count": null,
      "outputs": []
    },
    {
      "cell_type": "code",
      "source": [
        "################  문제 4  ####################\n",
        "# 소스코드를 입력하고 캡처 후 보고서에 업로드하세요.\n",
        "# 코드 시작과 코드 끝 라인을 삭제하지 마세요.\n",
        "################ 코드 시작  #####################\n",
        "\n",
        "################ 코드 끝  ######################\n",
        "##############################################"
      ],
      "metadata": {
        "id": "7ntKTT-ax6R0"
      },
      "execution_count": null,
      "outputs": []
    },
    {
      "cell_type": "code",
      "source": [
        "data_final.head()"
      ],
      "metadata": {
        "id": "g3YBZL-TyIxJ"
      },
      "execution_count": null,
      "outputs": []
    },
    {
      "cell_type": "markdown",
      "source": [
        "## 문제 5\n",
        "* KNN 이해하기"
      ],
      "metadata": {
        "id": "9-0PHnCAW8AI"
      }
    },
    {
      "cell_type": "markdown",
      "source": [
        "### train과 test set 나누기"
      ],
      "metadata": {
        "id": "KQXK4myfW9_a"
      }
    },
    {
      "cell_type": "code",
      "source": [
        "# train과 test set을 나누기 위한 함수\n",
        "from sklearn.model_selection import train_test_split"
      ],
      "metadata": {
        "id": "9Z5dw2qqv8GK"
      },
      "execution_count": null,
      "outputs": []
    },
    {
      "cell_type": "code",
      "source": [
        "# 아래 결과는 최초 data를 upload했을 때의 사이즈입니다.\n",
        "data_final.shape"
      ],
      "metadata": {
        "id": "7icGoHBpv9Uj"
      },
      "execution_count": null,
      "outputs": []
    },
    {
      "cell_type": "code",
      "source": [
        "# 변수들과 label로 활용할 것을 나누는 작업\n",
        "X = data_final.drop(['satisfaction'], axis=1)\n",
        "y = data_final['satisfaction']"
      ],
      "metadata": {
        "id": "QpRv8kHMw4i3"
      },
      "execution_count": null,
      "outputs": []
    },
    {
      "cell_type": "code",
      "source": [
        "X_train, X_test, y_train, y_test = train_test_split(X, y, test_size=0.2) # test:train = 8:2"
      ],
      "metadata": {
        "id": "jkzVBJY_xMII"
      },
      "execution_count": null,
      "outputs": []
    },
    {
      "cell_type": "code",
      "source": [
        "# 아래 결과는 train, test split의 사이즈입니다.\n",
        "print(\"X_train's shape : \", X_train.shape)\n",
        "print(\"X_test's shape : \", X_test.shape)\n",
        "print(\"y_train's shape : \", y_train.shape)\n",
        "print(\"y_test's shape : \", y_test.shape)\n",
        "X_train.reset_index(drop=True, inplace=True)\n",
        "X_test.reset_index(drop=True, inplace=True)\n",
        "y_train.reset_index(drop=True, inplace=True)\n",
        "y_test.reset_index(drop=True, inplace=True)"
      ],
      "metadata": {
        "id": "3ka7hJztxO2Y"
      },
      "execution_count": null,
      "outputs": []
    },
    {
      "cell_type": "markdown",
      "source": [
        "### 문제 5-1\n",
        "**`KNeighborsClassifier`**를 사용하여 test accuracy가 0.8 이상 나오도록 코드를 완성하고 코드를 보고서에 캡처하여 업로드하세요.\n",
        "* 조건: neightbor의 수 k=3으로  고정합니다."
      ],
      "metadata": {
        "id": "HmSCo7A7ombW"
      }
    },
    {
      "cell_type": "code",
      "source": [
        "from sklearn.neighbors import KNeighborsClassifier"
      ],
      "metadata": {
        "id": "Ux1Xc6Svo0vn"
      },
      "execution_count": null,
      "outputs": []
    },
    {
      "cell_type": "code",
      "source": [
        "################  문제 5-1  ####################\n",
        "# 소스코드를 입력하고 캡처 후 보고서에 업로드하세요.\n",
        "# 코드 시작과 코드 끝 라인을 삭제하지 마세요.\n",
        "################ 코드 시작  #####################\n",
        "\n",
        "################ 코드 끝  ######################\n",
        "##############################################"
      ],
      "metadata": {
        "id": "h2DCiqXGywvY"
      },
      "execution_count": null,
      "outputs": []
    },
    {
      "cell_type": "code",
      "source": [
        "test_acc = KNNclassifier_name.score(X_test, y_test)\n",
        "print(test_acc)"
      ],
      "metadata": {
        "id": "xvwSWEpCzHeB"
      },
      "execution_count": null,
      "outputs": []
    },
    {
      "cell_type": "markdown",
      "source": [
        "### 문제 5-2\n",
        "* Knn Classifier을 사용하여 K 값에 따라 변화하는 train accuracy, test accuracy를 그래프로 그리세요.\n",
        "* 소스코드와 그래프를 **함께** 보고서에 업로드하세요."
      ],
      "metadata": {
        "id": "eT4QWs54ACwe"
      }
    },
    {
      "cell_type": "code",
      "source": [
        "import matplotlib.pyplot as plt"
      ],
      "metadata": {
        "id": "BE0NnKeb6IXK"
      },
      "execution_count": null,
      "outputs": []
    },
    {
      "cell_type": "code",
      "source": [
        "K = [1, 3, 5, 15, 55, 101, 501]\n",
        "train_acc = []\n",
        "test_acc = []\n",
        "\n",
        "for i in K:\n",
        "################  문제 5-4  ####################\n",
        "# 소스코드를 입력하고 캡처 후 보고서에 업로드하세요.\n",
        "# 코드 시작과 코드 끝 라인을 삭제하지 마세요.\n",
        "################ 코드 시작  #####################\n",
        "\n",
        "# 소스코드를 입력하고 그래프와 함께 캡처 후 보고서에 업로드 하세요\n",
        "\n",
        "\n",
        "################ 코드 끝  ######################\n",
        "# x축을 K값, y축을 정확도로하여 K에 대한 train, test의 정확도에 대한 그래프 생성\n",
        "plt.figure()\n",
        "plt.plot(K, train_acc, label='train accuracy')\n",
        "plt.plot(K, test_acc, label='test accuracy')\n",
        "plt.xlabel('K')\n",
        "plt.ylabel('accuracy')"
      ],
      "metadata": {
        "id": "VJh94PKvAaZA"
      },
      "execution_count": null,
      "outputs": []
    },
    {
      "cell_type": "markdown",
      "source": [
        "# 깃허브에 업로드하기\n",
        "* colab with github 문서 참고"
      ],
      "metadata": {
        "id": "ZuWyQmrD4GX2"
      }
    }
  ]
}